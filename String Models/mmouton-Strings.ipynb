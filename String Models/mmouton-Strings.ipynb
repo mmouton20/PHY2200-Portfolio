{
 "cells": [
  {
   "cell_type": "markdown",
   "metadata": {},
   "source": [
    "## Strings Project "
   ]
  },
  {
   "cell_type": "markdown",
   "metadata": {},
   "source": [
    "Some boundry conditions to consider is that the fixed end has 0 displacement, the free end has velocity zero, because the string will be horizontal at the end "
   ]
  },
  {
   "cell_type": "code",
   "execution_count": 1,
   "metadata": {},
   "outputs": [
    {
     "data": {
      "application/javascript": [
       "require.undef(\"nbextensions/vpython_libraries/glow.min\");"
      ],
      "text/plain": [
       "<IPython.core.display.Javascript object>"
      ]
     },
     "metadata": {},
     "output_type": "display_data"
    },
    {
     "data": {
      "application/javascript": [
       "require.undef(\"nbextensions/vpython_libraries/glowcomm\");"
      ],
      "text/plain": [
       "<IPython.core.display.Javascript object>"
      ]
     },
     "metadata": {},
     "output_type": "display_data"
    },
    {
     "data": {
      "application/javascript": [
       "require.undef(\"nbextensions/vpython_libraries/jquery-ui.custom.min\");"
      ],
      "text/plain": [
       "<IPython.core.display.Javascript object>"
      ]
     },
     "metadata": {},
     "output_type": "display_data"
    },
    {
     "data": {
      "application/javascript": [
       "require([\"nbextensions/vpython_libraries/glow.min\"], function(){console.log(\"GLOW LOADED\");})"
      ],
      "text/plain": [
       "<IPython.core.display.Javascript object>"
      ]
     },
     "metadata": {},
     "output_type": "display_data"
    },
    {
     "data": {
      "application/javascript": [
       "require([\"nbextensions/vpython_libraries/glowcomm\"], function(){console.log(\"GLOWCOMM LOADED\");})"
      ],
      "text/plain": [
       "<IPython.core.display.Javascript object>"
      ]
     },
     "metadata": {},
     "output_type": "display_data"
    },
    {
     "data": {
      "application/javascript": [
       "require([\"nbextensions/vpython_libraries/jquery-ui.custom.min\"], function(){console.log(\"JQUERY LOADED\");})"
      ],
      "text/plain": [
       "<IPython.core.display.Javascript object>"
      ]
     },
     "metadata": {},
     "output_type": "display_data"
    },
    {
     "data": {
      "text/html": [
       "<div id=\"glowscript\" class=\"glowscript\"></div>"
      ],
      "text/plain": [
       "<IPython.core.display.HTML object>"
      ]
     },
     "metadata": {},
     "output_type": "display_data"
    },
    {
     "data": {
      "application/javascript": [
       "window.__context = { glowscript_container: $(\"#glowscript\").removeAttr(\"id\")}"
      ],
      "text/plain": [
       "<IPython.core.display.Javascript object>"
      ]
     },
     "metadata": {},
     "output_type": "display_data"
    }
   ],
   "source": [
    "import numpy as np\n",
    "import matplotlib.pyplot as plt\n",
    "import ode\n",
    "from scipy.optimize import curve_fit\n",
    "from vpython import * #yes, I know I'm not supposed to do this. Sorry.\n",
    "from scipy.linalg import eigh\n",
    "\n",
    "from mplEasyAnimate import animation\n",
    "from tqdm import tqdm"
   ]
  },
  {
   "cell_type": "code",
   "execution_count": 2,
   "metadata": {},
   "outputs": [],
   "source": [
    "#Psedo code:: how are you going to solve the problem at hand. \n",
    "#Fixed at one hand, free on the other. \n",
    "#Boundry condtion, fixed end is displacement == o, free hand would still be small verticle displacement vs. the legnth. \n",
    "#Boundry condition:: fixed end:: Displacement == 0;  free end:: (du/dx)--> velocity == 0 because the strong is flat(horiz.) at\n",
    "#                        every height that the string encounters. \n",
    "#\n",
    "#\n",
    "#"
   ]
  },
  {
   "cell_type": "markdown",
   "metadata": {},
   "source": [
    "#### This sets up the normal mode calcuations for the string"
   ]
  },
  {
   "cell_type": "code",
   "execution_count": 3,
   "metadata": {},
   "outputs": [],
   "source": [
    "def normal_modes(Natoms, ks, mass, ui, udoti, t_total):\n",
    "    global N, k, m\n",
    "    N=Natoms\n",
    "    k=ks\n",
    "    m=mass\n",
    "    \n",
    "    #Build matrices\n",
    "    A=np.zeros((Natoms,Natoms))\n",
    "\n",
    "    for i in range(Natoms):\n",
    "        A[i,i] = 2*ks\n",
    "        if i==0:\n",
    "            A[0,i+1]=-ks\n",
    "        elif i==Natoms-1:\n",
    "            A[i,i-1]=-ks\n",
    "        else:\n",
    "            A[i,i-1]= -ks\n",
    "            A[i,i+1]= -ks\n",
    "        \n",
    "    A[Natoms-1, Natoms-1] = ks\n",
    "\n",
    "    B=mass*np.identity(Natoms)   \n",
    "\n",
    "    #find eigenvalues and eigenvectors\n",
    "    lamb, a = eigh(A, B)        # eigenvalues and eigenvectors  \n",
    "   \n",
    "    #Find coefficients for normal modes\n",
    "    Acoeffs = np.linalg.solve(a,ui)\n",
    "\n",
    "    #build the general solution\n",
    "    t = np.linspace(0,t_total,1000)\n",
    "\n",
    "    omegas = np.sqrt(lamb)\n",
    "    u_atoms = np.zeros((Natoms,len(t)))\n",
    "\n",
    "    for i in range(Natoms):\n",
    "        for w in range(0,len(omegas)):\n",
    "            u_atoms[i] = u_atoms[i] + Acoeffs[w]*a[i,w]*np.cos(omegas[w]*t)\n",
    "\n",
    "    return omegas, a, u_atoms, t"
   ]
  },
  {
   "cell_type": "markdown",
   "metadata": {},
   "source": [
    "#### This is the plotting for each mode"
   ]
  },
  {
   "cell_type": "code",
   "execution_count": 4,
   "metadata": {},
   "outputs": [],
   "source": [
    "def plot_mode_teq0(mode, freqs, vecs): #plot normal mode at t=0\n",
    "    \n",
    "    u_mode = vecs[:,mode]\n",
    "    u_mode_with_boundary=np.insert(u_mode,0,0) #add 0 to beginning of array\n",
    "    u_mode_with_boundary=np.append(u_mode_with_boundary, u_mode[-1]) #add 0 to end of array\n",
    "    xa = np.linspace(0,L,Natoms+2)\n",
    "        \n",
    "    plt.figure()\n",
    "    plt.title(\"normal mode %d\" % mode)\n",
    "    plt.plot(xa,u_mode_with_boundary, 'b-', label='u_i')\n",
    "    plt.xlabel('x (m)')\n",
    "    plt.ylabel('y (m)')\n",
    "    plt.legend(loc='lower right')\n",
    "    plt.show()"
   ]
  },
  {
   "cell_type": "markdown",
   "metadata": {},
   "source": [
    "These are some inital conditions and other variables that are directly defined, the lower half calculates the Eigenvectors "
   ]
  },
  {
   "cell_type": "code",
   "execution_count": 5,
   "metadata": {},
   "outputs": [],
   "source": [
    "Natoms = 100\n",
    "ks = 1\n",
    "mass = 1\n",
    "L = 1\n",
    "L0 = L/(Natoms+1)\n",
    "F_T = ks*L0\n",
    "t_total = 10*np.pi\n",
    "\n",
    "u_i = np.zeros(Natoms)\n",
    "udot_i = np.zeros(Natoms)\n",
    "\n",
    "eig_freq, eig_vec, u, ta = normal_modes(Natoms, ks, mass, u_i, udot_i, t_total)"
   ]
  },
  {
   "cell_type": "code",
   "execution_count": 6,
   "metadata": {},
   "outputs": [
    {
     "name": "stdout",
     "output_type": "stream",
     "text": [
      "The eigenvalues are (omega^2):\n",
      " [9.99658224e-17 1.00000000e+00 3.00000000e+00] \n",
      "\n",
      "The eigenvectors are column vectors in:\n",
      " [[-5.77350269e-01 -7.07106781e-01  4.08248290e-01]\n",
      " [-5.77350269e-01  7.58447699e-17 -8.16496581e-01]\n",
      " [-5.77350269e-01  7.07106781e-01  4.08248290e-01]]\n"
     ]
    }
   ],
   "source": [
    "m1=m2=m3 = m  #setting the mass of all items on the string. \n",
    "\n",
    "A = np.array([[ks, -ks, 0], [-ks, 2*ks, -ks], [0, -ks, ks]])\n",
    "B = np.array([[m1, 0, 0], [0, m2, 0], [0, 0, m3]])\n",
    "\n",
    "lamb, a = eigh(A, B)        # eigenvalues and eigenvectors  \n",
    "print(\"The eigenvalues are (omega^2):\\n\", lamb, '\\n')\n",
    "\n",
    "print(\"The eigenvectors are column vectors in:\\n\", a)"
   ]
  },
  {
   "cell_type": "markdown",
   "metadata": {},
   "source": [
    "#### Below are the normal modes, plotted"
   ]
  },
  {
   "cell_type": "code",
   "execution_count": 7,
   "metadata": {},
   "outputs": [
    {
     "name": "stdout",
     "output_type": "stream",
     "text": [
      "Mode 0\n"
     ]
    },
    {
     "data": {
      "image/png": "[encoded data removed]",
      "text/plain": [
       "<Figure size 432x288 with 1 Axes>"
      ]
     },
     "metadata": {},
     "output_type": "display_data"
    },
    {
     "data": {
      "image/png": "[encoded data removed]",
      "text/plain": [
       "<Figure size 432x288 with 1 Axes>"
      ]
     },
     "metadata": {},
     "output_type": "display_data"
    },
    {
     "data": {
      "image/png": "[encoded data removed]",
      "text/plain": [
       "<Figure size 432x288 with 1 Axes>"
      ]
     },
     "metadata": {},
     "output_type": "display_data"
    }
   ],
   "source": [
    "print(\"Mode 0\")\n",
    "plot_mode_teq0(0,eig_freq,eig_vec)\n",
    "plot_mode_teq0(1,eig_freq,eig_vec)\n",
    "plot_mode_teq0(2,eig_freq,eig_vec)"
   ]
  },
  {
   "cell_type": "code",
   "execution_count": 8,
   "metadata": {},
   "outputs": [],
   "source": [
    "def animate_mode(mode, freqs, vecs):\n",
    "    scene=canvas()\n",
    "    \n",
    "    a = vecs[:,mode]\n",
    "    omega = freqs[mode]\n",
    "    \n",
    "    scene.background=color.white\n",
    "    \n",
    "    balls=[]\n",
    "    xballs = np.linspace(-L/2+L0,L/2-L0,Natoms)\n",
    "    \n",
    "    springs=[]\n",
    "    xsprings = np.linspace(-L/2,L/2-L0,Natoms+1)\n",
    "    springs.append(helix(pos=vec(-L/2,0,0), axis=vec(L0,0,0), color=color.orange, radius=L0/8))\n",
    "    \n",
    "    for x in xballs:\n",
    "        ball = sphere(pos=vec(x,0,0), radius=L0/4, color=color.red)\n",
    "        balls.append(ball)\n",
    "        spring = helix(pos=ball.pos, axis=vec(L0,0,0), color=color.orange, radius=ball.radius/2)\n",
    "        springs.append(spring)\n",
    "        \n",
    "    #set initial positions    \n",
    "    for i in range(0,len(balls)):\n",
    "        ball = balls[i]\n",
    "        u_t = a[i]\n",
    "        ball.pos.y = u_t\n",
    "    for i in range(1, len(springs)-1): #all springs except first and last\n",
    "        spring = springs[i]\n",
    "        spring.pos=balls[i-1].pos\n",
    "        spring.axis=balls[i].pos-spring.pos\n",
    "    #update first and last springs\n",
    "    springs[0].axis = balls[0].pos-springs[0].pos\n",
    "    springs[-1].pos = balls[-1].pos\n",
    "    springs[-1].axis = vec(L/2,0,0)-springs[-1].pos\n",
    "    \n",
    "    scene.waitfor(\"click\")\n",
    "    t=0\n",
    "    dt=0.01\n",
    "\n",
    "    while t<10*t_total:\n",
    "        rate(1000)\n",
    "        for i in range(0,len(balls)):\n",
    "            ball = balls[i]\n",
    "            u_t = a[i]*np.cos(omega*t)\n",
    "            ball.pos.y = u_t\n",
    "        for i in range(1, len(springs)-1): #all springs except first and last\n",
    "            spring = springs[i]\n",
    "            spring.pos=balls[i-1].pos\n",
    "            spring.axis=balls[i].pos-spring.pos\n",
    "        #update first and last springs\n",
    "        springs[0].axis = balls[0].pos-springs[0].pos\n",
    "        springs[-1].pos = balls[-1].pos\n",
    "        springs[-1].axis = vec(L/2,0,0)-springs[-1].pos\n",
    "\n",
    "        t=t+dt\n",
    "                "
   ]
  },
  {
   "cell_type": "code",
   "execution_count": null,
   "metadata": {},
   "outputs": [
    {
     "data": {
      "text/html": [
       "<div id=\"glowscript\" class=\"glowscript\"></div>"
      ],
      "text/plain": [
       "<IPython.core.display.HTML object>"
      ]
     },
     "metadata": {},
     "output_type": "display_data"
    },
    {
     "data": {
      "application/javascript": [
       "window.__context = { glowscript_container: $(\"#glowscript\").removeAttr(\"id\")}"
      ],
      "text/plain": [
       "<IPython.core.display.Javascript object>"
      ]
     },
     "metadata": {},
     "output_type": "display_data"
    }
   ],
   "source": [
    "animate_mode(2,eig_freq,eig_vec)"
   ]
  },
  {
   "cell_type": "markdown",
   "metadata": {},
   "source": [
    "## This sets up the easy animate"
   ]
  },
  {
   "cell_type": "code",
   "execution_count": 9,
   "metadata": {},
   "outputs": [],
   "source": [
    "from IPython.display import HTML\n",
    "\n",
    "def playVideo(path):\n",
    "    return HTML(\"\"\"\n",
    "                <video width=\"320\" height=\"240\" controls>\n",
    "                  <source src=\"{}\" type=\"video/mp4\">\n",
    "                </video>\n",
    "                \"\"\".format(path))"
   ]
  },
  {
   "cell_type": "code",
   "execution_count": 10,
   "metadata": {},
   "outputs": [
    {
     "name": "stdout",
     "output_type": "stream",
     "text": [
      "ERROR! Session/line number was not unique in database. History logging moved to new session 370\n"
     ]
    }
   ],
   "source": [
    "def easyanimate_string(t_array, u_array, filename):\n",
    "    xa = np.linspace(0., L, N+1)\n",
    "\n",
    "    t_offsets = t_array\n",
    "    anim = animation(filename)\n",
    "    i=0\n",
    "    for offset in tqdm(t_offsets):\n",
    "        fig, ax = plt.subplots(1, 1, figsize=(10, 7))\n",
    "        ax.plot(xa, u_array[i,:])\n",
    "        ax.set_xlim(0,L)\n",
    "        ax.set_ylim(-1.1,1.1)\n",
    "        \n",
    "        anim.add_frame(fig)\n",
    "        plt.close(fig)\n",
    "        i=i+1\n",
    "    anim.close()    "
   ]
  },
  {
   "cell_type": "markdown",
   "metadata": {},
   "source": [
    "Rather than looking at a string that was loose on one end as the one above, I decided to look at the wave motion of a string that is already vibrating to be plucked. For example, a guitar string would be plucked after it was already pucked and it still vibrating. "
   ]
  },
  {
   "cell_type": "code",
   "execution_count": 11,
   "metadata": {},
   "outputs": [],
   "source": [
    "def wavemotion(u0, u1):\n",
    "    u2 = 2*(1-b)*u1 - u0                      \n",
    "    u2[1:-1] += b*( u1[0:-2] + u1[2:] )  \n",
    "\n",
    "    return u2\n",
    "\n",
    "def gaussian(x):\n",
    "    return np.exp(-(x-5)**2)  \n",
    "\n",
    "def sinusoidal(x,A,k):\n",
    "    return A*np.sin(k*x)"
   ]
  },
  {
   "cell_type": "code",
   "execution_count": 12,
   "metadata": {},
   "outputs": [
    {
     "data": {
      "image/png": "[encoded data removed]",
      "text/plain": [
       "<Figure size 432x288 with 1 Axes>"
      ]
     },
     "metadata": {},
     "output_type": "display_data"
    }
   ],
   "source": [
    "b = 1.0                    # beta^2\n",
    "h = L/Natoms\n",
    "\n",
    "\n",
    "N_t = 200 #number of time intervals\n",
    "dt = t_total/N_t\n",
    "t = 0\n",
    "ta = np.linspace(0,t_total,N_t+1)\n",
    "\n",
    "A = 0.5\n",
    "lamb = 2*L\n",
    "v = b*h/dt\n",
    "f = v/lamb\n",
    "k=2*np.pi/lamb\n",
    "\n",
    "x = np.linspace(0, L, Natoms+1)\n",
    "u0 = 2*sinusoidal(x,A,k)\n",
    "u1 = sinusoidal(x-v*dt,A,k)+sinusoidal(x+v*dt,A,k)\n",
    "\n",
    "data = np.zeros((N_t+1,Natoms+1))  #columns are u at grid points\n",
    "data[0]=u0\n",
    "data[1]=u1\n",
    "\n",
    "u0[-1] = u0[-2]\n",
    "u1[-1] = u1[-2]\n",
    "for i in range(N_t):\n",
    "    u2 = wavemotion(u0, u1)\n",
    "    u0, u1 = u1, u2\n",
    "    data[i]=u2\n",
    "\n",
    "data.shape\n",
    "\n",
    "plt.figure()\n",
    "plt.title(\"Initial Condition\")\n",
    "plt.plot(x,data[0,:], 'b-', label='u_i')\n",
    "plt.xlabel('x (m)')\n",
    "plt.ylabel('y (m)')\n",
    "plt.legend(loc='lower right')\n",
    "plt.show()\n"
   ]
  },
  {
   "cell_type": "code",
   "execution_count": 13,
   "metadata": {
    "scrolled": true
   },
   "outputs": [
    {
     "name": "stderr",
     "output_type": "stream",
     "text": [
      "100%|████████████████████████████████████████████████████████████████████████████████| 201/201 [00:48<00:00,  4.15it/s]\n"
     ]
    }
   ],
   "source": [
    "file='string-3.mp4'\n",
    "easyanimate_string(ta,data,file)"
   ]
  },
  {
   "cell_type": "code",
   "execution_count": 14,
   "metadata": {},
   "outputs": [
    {
     "data": {
      "text/html": [
       "\n",
       "                <video width=\"320\" height=\"240\" controls>\n",
       "                  <source src=\"string-3.mp4\" type=\"video/mp4\">\n",
       "                </video>\n",
       "                "
      ],
      "text/plain": [
       "<IPython.core.display.HTML object>"
      ]
     },
     "execution_count": 14,
     "metadata": {},
     "output_type": "execute_result"
    }
   ],
   "source": [
    "playVideo(file)"
   ]
  },
  {
   "cell_type": "markdown",
   "metadata": {},
   "source": [
    "Giving credit:\n",
    "\n",
    "1. Dr. Aaron Titus, High Point University Physics Department\n",
    "2. Jay Wang, Author of Computational Modeling (and visualization of physical systems with Python)"
   ]
  }
 ],
 "metadata": {
  "kernelspec": {
   "display_name": "Python 3",
   "language": "python",
   "name": "python3"
  },
  "language_info": {
   "codemirror_mode": {
    "name": "ipython",
    "version": 3
   },
   "file_extension": ".py",
   "mimetype": "text/x-python",
   "name": "python",
   "nbconvert_exporter": "python",
   "pygments_lexer": "ipython3",
   "version": "3.6.5"
  }
 },
 "nbformat": 4,
 "nbformat_minor": 2
}
